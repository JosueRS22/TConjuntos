{
 "cells": [
  {
   "cell_type": "markdown",
   "id": "86aa07a4-83f2-4d4c-8bff-10d033681bd4",
   "metadata": {},
   "source": [
    "# Teoría de Conjuntos"
   ]
  },
  {
   "cell_type": "markdown",
   "id": "210f5c99-3af0-46dd-a9d5-b2f60a8255c1",
   "metadata": {},
   "source": [
    "La teoría de conjuntos es un área de estudio enfocada en los conjuntos. Por tanto, se encarga de analizar tanto los atributos que poseen, como las relaciones que pueden establecerse entre ellos. Es decir, su unión intersección, complemento u otro."
   ]
  },
  {
   "cell_type": "markdown",
   "id": "1a77daf1-b66c-44d8-ab51-2adc6b25ceae",
   "metadata": {},
   "source": [
    "## Creación de conjuntos"
   ]
  },
  {
   "cell_type": "markdown",
   "id": "f44c5449-7c4b-4609-8b49-9b75fa17b415",
   "metadata": {},
   "source": [
    "En python, podrás crear un conjunto utilizando llaves {} o la función."
   ]
  },
  {
   "cell_type": "code",
   "execution_count": null,
   "id": "0aa1bc8c-e8e7-41f5-ab13-37ec3298644d",
   "metadata": {},
   "outputs": [],
   "source": [
    "A = {}"
   ]
  },
  {
   "cell_type": "code",
   "execution_count": null,
   "id": "ae46d6f8-4efa-4e35-956d-44a588860cc5",
   "metadata": {},
   "outputs": [],
   "source": [
    "B = {}"
   ]
  },
  {
   "cell_type": "code",
   "execution_count": null,
   "id": "d60c68fe-dd3d-4e93-a2f3-ca6908b4787c",
   "metadata": {},
   "outputs": [],
   "source": [
    "C = {}"
   ]
  },
  {
   "cell_type": "markdown",
   "id": "63955a37-f731-4517-b4c5-f608f7fab137",
   "metadata": {},
   "source": [
    "## Listas y Conjuntos"
   ]
  },
  {
   "cell_type": "code",
   "execution_count": null,
   "id": "6cc8478b-ede8-4767-bd0c-652f93a29d45",
   "metadata": {},
   "outputs": [],
   "source": [
    "lista = {1, 2, 3, 4, 5, 6, 7, 8, 9}"
   ]
  },
  {
   "cell_type": "code",
   "execution_count": null,
   "id": "503ed529-fbb3-4a9e-a8eb-c281406ffe2c",
   "metadata": {},
   "outputs": [],
   "source": [
    "lista"
   ]
  },
  {
   "cell_type": "markdown",
   "id": "a16b9d3b-0bb8-4d31-ab19-17aff7223aa1",
   "metadata": {},
   "source": [
    "conjunto = set(lista)"
   ]
  },
  {
   "cell_type": "code",
   "execution_count": null,
   "id": "503e2af8-e9f8-49a3-8eab-554688222c6c",
   "metadata": {},
   "outputs": [],
   "source": [
    "conjunto"
   ]
  },
  {
   "cell_type": "markdown",
   "id": "8b141252-d3f7-4545-8c6e-3ae4211e5704",
   "metadata": {},
   "source": [
    "## Operaciones"
   ]
  },
  {
   "cell_type": "markdown",
   "id": "e9dd72eb-7813-470b-97eb-eacbad3a942f",
   "metadata": {},
   "source": [
    "Python proporciona operadores y métodos para realizar operaciones básicas de conjuntos con unión, intersección, diferencia y diferencia simétrica."
   ]
  },
  {
   "cell_type": "markdown",
   "id": "c75595a8-8632-400d-96c5-8ea7027d68ed",
   "metadata": {},
   "source": [
    "### Unión"
   ]
  },
  {
   "cell_type": "markdown",
   "id": "18a34777-4ee6-48bf-9ab3-11084995045e",
   "metadata": {},
   "source": [
    "Formalmente si A y B son conjuntos, la unión de A y B se define como el conjunto C que contiene todos los elementos que pertenecen a A, a B, o a ambos. Matemáticamente, esto se puede expresar como:\n",
    "$$\n",
    "   C = A \\cup B = (x|x \\in A \\quad o \\quad  x \\in B)\n",
    "$$\n",
    "En python, la operación de unión puede realizarse utilizando el operador | o el método union()"
   ]
  },
  {
   "cell_type": "markdown",
   "id": "f9ab0011-cd42-4a51-8177-b8968d6014e2",
   "metadata": {},
   "source": [
    "A | B "
   ]
  },
  {
   "cell_type": "markdown",
   "id": "112540e6-4adc-41df-8d1f-cd5bd4bafcd4",
   "metadata": {},
   "source": [
    "A.union(B)"
   ]
  },
  {
   "cell_type": "markdown",
   "id": "866770be-aacd-4f48-900f-568adc752762",
   "metadata": {},
   "source": [
    "#### Ejemplo"
   ]
  },
  {
   "cell_type": "markdown",
   "id": "913b2065-d5b3-44b1-897d-36ba803d5d32",
   "metadata": {},
   "source": [
    "Dados dos conjuntos A={1,2,3,4,5} y B={4,5,6,7,8,9} la unión de estos conjuntos será A∪B={1,2,3,4,5,6,7,8,9}. Usando diagramas de Venn se tendría lo siguiente:"
   ]
  },
  {
   "cell_type": "markdown",
   "id": "06022f27-fd13-4c4e-90fc-0d5ad62b863f",
   "metadata": {},
   "source": [
    "<img src=https://www.conoce3000.com/html/espaniol/Libros/Matematica01/imagenes/UnionConjuntos02m.jpg>"
   ]
  },
  {
   "cell_type": "markdown",
   "id": "cc3ba745-90f0-4484-a3b7-37aee3b326d2",
   "metadata": {},
   "source": [
    "### Intersección"
   ]
  },
  {
   "cell_type": "markdown",
   "id": "6d5d2025-965a-4661-b83b-48012b07d7de",
   "metadata": {},
   "source": [
    "Es la operación que nos permite formar un conjunto, sólo con los elementos comunes involucrados en la operación. Es decir dados dos conjuntos A y B, la de intersección de los conjuntos A y B, estará formado por los elementos de A y los elementos de B que sean comunes, los elementos no comunes A y B, será excluidos. Se expresa como:\n",
    "$$\n",
    "   C = A \\cap B = (x|x \\in A \\quad y \\quad x \\in B)\n",
    "$$\n",
    "En python, la operación de intersección puede realizarse utilizando el operador & o el método intersection()"
   ]
  },
  {
   "cell_type": "markdown",
   "id": "a8dca35c-bc1d-4bef-a794-bef423238b74",
   "metadata": {},
   "source": [
    "A & B"
   ]
  },
  {
   "cell_type": "markdown",
   "id": "83bc88b7-fe70-4ac9-a059-64de60258ffc",
   "metadata": {},
   "source": [
    "A.intersection(B)"
   ]
  },
  {
   "cell_type": "markdown",
   "id": "578b32c5-9d5a-4868-8877-ecc6c172b149",
   "metadata": {},
   "source": [
    "#### Ejemplo"
   ]
  },
  {
   "cell_type": "markdown",
   "id": "a0609ce6-3daf-4479-9820-d174aaab98b5",
   "metadata": {},
   "source": [
    "Dados dos conjuntos A={1,2,3,4,5} y B={4,5,6,7,8,9} la intersección de estos conjuntos será A∩B={4,5}. Usando diagramas de Venn se tendría lo siguiente:"
   ]
  },
  {
   "cell_type": "markdown",
   "id": "67a5f07c-c057-4e66-8a5f-a82e04b0c71e",
   "metadata": {},
   "source": [
    "<img src=https://www.conoce3000.com/html/espaniol/Libros/Matematica01/imagenes/Interseccion01m.jpg>"
   ]
  },
  {
   "cell_type": "markdown",
   "id": "6ce37ddb-1797-4cca-886d-dc2f5bf2c2c0",
   "metadata": {},
   "source": [
    "### Diferencia"
   ]
  },
  {
   "cell_type": "markdown",
   "id": "1b5a5861-9bd0-4e22-8100-d15ae627a21e",
   "metadata": {},
   "source": [
    "Es la operación que nos permite formar un conjunto, en donde de dos conjuntos el conjunto resultante es el que tendrá todos los elementos que pertenecen al primero pero no al segundo. Es decir dados dos conjuntos A y B, la diferencia de los conjuntos entra A y B, estará formado por todos los elementos de A que no pertenezcan a B. El símbolo que se usa para esta operación es el mismo que se usa para la resta o sustracción:\n",
    "$$ \n",
    "   C = A - B = (x|x \\in A \\quad y \\quad x \\notin B)\n",
    "$$\n",
    "En python, la operación de diferencia puede realizarse utilizando el operador - o el método difference()"
   ]
  },
  {
   "cell_type": "markdown",
   "id": "a7c842d2-60c5-42e7-bd10-7856bafa6732",
   "metadata": {},
   "source": [
    "A - B"
   ]
  },
  {
   "cell_type": "markdown",
   "id": "b3c0ae8e-63f5-40ed-8254-70b8168d4e3c",
   "metadata": {},
   "source": [
    "A.difference(B)"
   ]
  },
  {
   "cell_type": "markdown",
   "id": "c478aa6a-0362-4f13-aa6b-982f3b25fa2a",
   "metadata": {},
   "source": [
    "#### Ejemplo"
   ]
  },
  {
   "cell_type": "markdown",
   "id": "99801260-4320-400d-84c2-0f027c689a11",
   "metadata": {},
   "source": [
    "Ejemplo 1.\r\n",
    "\r\n",
    "Dados dos conjuntos A={1,2,3,4,5} y B={4,5,6,7,8,9} la diferencia de estos conjuntos será A-B={1,2,3}. Usando diagramas de Venn se tendría lo siguiente:"
   ]
  },
  {
   "cell_type": "markdown",
   "id": "fdd7db15-4fe7-4cd5-8ac0-ab12f67c9283",
   "metadata": {},
   "source": [
    "<img src=https://www.conoce3000.com/html/espaniol/Libros/Matematica01/imagenes/Diferencia01m.jpg> "
   ]
  },
  {
   "cell_type": "markdown",
   "id": "29160a32-9f17-475a-9398-3134233fc2ac",
   "metadata": {},
   "source": [
    "Ejemplo 2.\n",
    "\n",
    "Dados dos conjuntos A={1,2,3,4,5} y B={4,5,6,7,8,9} la diferencia de estos conjuntos será B-A={6,7,8,9}. Usando diagramas de Venn se tendría lo siguiente:"
   ]
  },
  {
   "cell_type": "markdown",
   "id": "f17d3433-9726-427e-b7c0-293246c722b7",
   "metadata": {},
   "source": [
    "<img src=https://www.conoce3000.com/html/espaniol/Libros/Matematica01/imagenes/Diferencia02m.jpg>"
   ]
  },
  {
   "cell_type": "markdown",
   "id": "ecf3621e-af18-42f3-8c30-392d09271845",
   "metadata": {},
   "source": [
    "###  Diferencia Simétrica"
   ]
  },
  {
   "cell_type": "markdown",
   "id": "a1f7a7f1-6d64-441d-ba6c-ee0542292ade",
   "metadata": {},
   "source": [
    "Es la operación que nos permite formar un conjunto, en donde de dos conjuntos el conjunto resultante es el que tendrá todos los elementos que no sean comunes a ambos conjuntos. Es decir dados dos conjuntos A y B, la diferencia simétrica estará formado por todos los elementos no comunes a los conjuntos A y B. El símbolo que se usa para indicar la operación de diferencia simétrica es el siguiente: \n",
    "$$\n",
    "   C = A \\Delta B = \\{ x \\mid (x \\in A \\land x \\notin B) \\lor (x \\in B \\land x \\notin A) \\}\n",
    "$$\n",
    "\n",
    "En python, la operación de diferencia puede realizarse utilizando el operador ^ o el método symmetric_difference()"
   ]
  },
  {
   "cell_type": "markdown",
   "id": "5f001c88-0f0a-43cd-a55a-910c34fb25ee",
   "metadata": {},
   "source": [
    "A △ B"
   ]
  },
  {
   "cell_type": "markdown",
   "id": "f79e35d0-a6fb-4903-aeaf-4c3d5e517117",
   "metadata": {},
   "source": [
    "A.symmetric_difference(B)"
   ]
  },
  {
   "cell_type": "markdown",
   "id": "c681683a-9573-47a7-a54f-caef2aa15f69",
   "metadata": {},
   "source": [
    "#### Ejemplo"
   ]
  },
  {
   "cell_type": "markdown",
   "id": "0eb6fedc-8d29-4060-a51f-4f3ced241747",
   "metadata": {},
   "source": [
    "Dados dos conjuntos A={1,2,3,4,5} y B={4,5,6,7,8,9} la diferencia simétrica de estos conjuntos será A △ B={1,2,3,6,7,8,9}. Usando diagramas de Venn se tendría lo siguiente:"
   ]
  },
  {
   "cell_type": "markdown",
   "id": "b33eb43a-e822-406f-a166-6a6e9cc708ad",
   "metadata": {},
   "source": [
    "<img src=https://www.conoce3000.com/html/espaniol/Libros/Matematica01/imagenes/DiferenciaSimetrica01m.jpg>"
   ]
  },
  {
   "cell_type": "code",
   "execution_count": null,
   "id": "bed4f72c-61c5-45f7-8601-3e56903ea4e7",
   "metadata": {},
   "outputs": [],
   "source": []
  }
 ],
 "metadata": {
  "kernelspec": {
   "display_name": "Python 3 (ipykernel)",
   "language": "python",
   "name": "python3"
  },
  "language_info": {
   "codemirror_mode": {
    "name": "ipython",
    "version": 3
   },
   "file_extension": ".py",
   "mimetype": "text/x-python",
   "name": "python",
   "nbconvert_exporter": "python",
   "pygments_lexer": "ipython3",
   "version": "3.11.7"
  }
 },
 "nbformat": 4,
 "nbformat_minor": 5
}
